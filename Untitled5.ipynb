{
  "cells": [
    {
      "cell_type": "markdown",
      "metadata": {
        "id": "view-in-github",
        "colab_type": "text"
      },
      "source": [
        "<a href=\"https://colab.research.google.com/github/armasahar/Hackathon/blob/main/Untitled5.ipynb\" target=\"_parent\"><img src=\"https://colab.research.google.com/assets/colab-badge.svg\" alt=\"Open In Colab\"/></a>"
      ]
    },
    {
      "cell_type": "code",
      "execution_count": null,
      "metadata": {
        "colab": {
          "base_uri": "https://localhost:8080/"
        },
        "id": "KHdCOU2ptih6",
        "outputId": "9fad1fc0-7341-4978-c635-2598a322ac18"
      },
      "outputs": [
        {
          "name": "stdout",
          "output_type": "stream",
          "text": [
            "Looking in indexes: https://pypi.org/simple, https://us-python.pkg.dev/colab-wheels/public/simple/\n",
            "Collecting transformers\n",
            "  Downloading transformers-4.26.1-py3-none-any.whl (6.3 MB)\n",
            "\u001b[2K     \u001b[90m━━━━━━━━━━━━━━━━━━━━━━━━━━━━━━━━━━━━━━━━\u001b[0m \u001b[32m6.3/6.3 MB\u001b[0m \u001b[31m44.9 MB/s\u001b[0m eta \u001b[36m0:00:00\u001b[0m\n",
            "\u001b[?25hRequirement already satisfied: numpy>=1.17 in /usr/local/lib/python3.9/dist-packages (from transformers) (1.22.4)\n",
            "Requirement already satisfied: filelock in /usr/local/lib/python3.9/dist-packages (from transformers) (3.9.0)\n",
            "Requirement already satisfied: pyyaml>=5.1 in /usr/local/lib/python3.9/dist-packages (from transformers) (6.0)\n",
            "Requirement already satisfied: tqdm>=4.27 in /usr/local/lib/python3.9/dist-packages (from transformers) (4.65.0)\n",
            "Requirement already satisfied: packaging>=20.0 in /usr/local/lib/python3.9/dist-packages (from transformers) (23.0)\n",
            "Collecting tokenizers!=0.11.3,<0.14,>=0.11.1\n",
            "  Downloading tokenizers-0.13.2-cp39-cp39-manylinux_2_17_x86_64.manylinux2014_x86_64.whl (7.6 MB)\n",
            "\u001b[2K     \u001b[90m━━━━━━━━━━━━━━━━━━━━━━━━━━━━━━━━━━━━━━━━\u001b[0m \u001b[32m7.6/7.6 MB\u001b[0m \u001b[31m78.2 MB/s\u001b[0m eta \u001b[36m0:00:00\u001b[0m\n",
            "\u001b[?25hRequirement already satisfied: requests in /usr/local/lib/python3.9/dist-packages (from transformers) (2.25.1)\n",
            "Collecting huggingface-hub<1.0,>=0.11.0\n",
            "  Downloading huggingface_hub-0.13.2-py3-none-any.whl (199 kB)\n",
            "\u001b[2K     \u001b[90m━━━━━━━━━━━━━━━━━━━━━━━━━━━━━━━━━━━━━━\u001b[0m \u001b[32m199.2/199.2 KB\u001b[0m \u001b[31m20.0 MB/s\u001b[0m eta \u001b[36m0:00:00\u001b[0m\n",
            "\u001b[?25hRequirement already satisfied: regex!=2019.12.17 in /usr/local/lib/python3.9/dist-packages (from transformers) (2022.6.2)\n",
            "Requirement already satisfied: typing-extensions>=3.7.4.3 in /usr/local/lib/python3.9/dist-packages (from huggingface-hub<1.0,>=0.11.0->transformers) (4.5.0)\n",
            "Requirement already satisfied: urllib3<1.27,>=1.21.1 in /usr/local/lib/python3.9/dist-packages (from requests->transformers) (1.26.14)\n",
            "Requirement already satisfied: idna<3,>=2.5 in /usr/local/lib/python3.9/dist-packages (from requests->transformers) (2.10)\n",
            "Requirement already satisfied: chardet<5,>=3.0.2 in /usr/local/lib/python3.9/dist-packages (from requests->transformers) (4.0.0)\n",
            "Requirement already satisfied: certifi>=2017.4.17 in /usr/local/lib/python3.9/dist-packages (from requests->transformers) (2022.12.7)\n",
            "Installing collected packages: tokenizers, huggingface-hub, transformers\n",
            "Successfully installed huggingface-hub-0.13.2 tokenizers-0.13.2 transformers-4.26.1\n"
          ]
        }
      ],
      "source": [
        "! pip install transformers"
      ]
    },
    {
      "cell_type": "code",
      "execution_count": null,
      "metadata": {
        "id": "dvaisI2OtqnY"
      },
      "outputs": [],
      "source": [
        "from transformers import AutoModelForCausalLM, AutoTokenizer\n",
        "import torch\n",
        "import json\n"
      ]
    },
    {
      "cell_type": "code",
      "execution_count": null,
      "metadata": {
        "id": "GK5d9uKeUBeU"
      },
      "outputs": [],
      "source": [
        "#with open('/content/intents (1).json') as file:\n",
        "   # conversation_history = json.load(file)"
      ]
    },
    {
      "cell_type": "code",
      "execution_count": null,
      "metadata": {
        "id": "0GgXJ5LgUnBu"
      },
      "outputs": [],
      "source": [
        "#for a small or large model, change the word ‘medium’\n",
        "model_name = \"microsoft/DialoGPT-medium\"\n",
        "\n",
        "tokenizer = AutoTokenizer.from_pretrained(model_name)\n",
        "model = AutoModelForCausalLM.from_pretrained(model_name)"
      ]
    },
    {
      "cell_type": "code",
      "execution_count": null,
      "metadata": {
        "id": "pErjajbFwkII"
      },
      "outputs": [],
      "source": [
        "from transformers import GPT2TokenizerFast\n"
      ]
    },
    {
      "cell_type": "code",
      "execution_count": null,
      "metadata": {
        "id": "qQHa9WTXxV8u"
      },
      "outputs": [],
      "source": [
        "tokenizer = GPT2TokenizerFast.from_pretrained(\"gpt2\")\n",
        "tokenizer(\"Hello world\")['input_ids']\n",
        "tokenizer(\" Hello world\")['input_ids']"
      ]
    },
    {
      "cell_type": "code",
      "execution_count": null,
      "metadata": {
        "colab": {
          "background_save": true,
          "base_uri": "https://localhost:8080/"
        },
        "id": "riSreyk-uhsT",
        "outputId": "c8059367-d00f-48d2-c18b-35333e499da7"
      },
      "outputs": [
        {
          "metadata": {
            "tags": null
          },
          "name": "stdout",
          "output_type": "stream",
          "text": [
            "nChat (ask a question to start a conversation): \n"
          ]
        },
        {
          "metadata": {
            "tags": null
          },
          "name": "stderr",
          "output_type": "stream",
          "text": [
            "A decoder-only architecture is being used, but right-padding was detected! For correct generation results, please set `padding_side='left'` when initializing the tokenizer.\n"
          ]
        },
        {
          "metadata": {
            "tags": null
          },
          "name": "stdout",
          "output_type": "stream",
          "text": [
            "Bot: He's talking about the courses available at the BME\n"
          ]
        }
      ],
      "source": [
        "nickname = input('Your nickname: ')\n",
        "print('nChat (ask a question to start a conversation): ')\n",
        "\n",
        "for response_num in range(7):\n",
        "    \n",
        "    # ask bot something\n",
        "    question = input('{}: '.format(nickname))\n",
        "    \n",
        "    # encode the input and add end of string token\n",
        "    user_input = tokenizer.encode(question + tokenizer.eos_token, return_tensors=\"pt\")\n",
        "    \n",
        "    # concatenate new user input with the chat history\n",
        "    chatbot_input = torch.cat([chat_history, user_input], dim=-1) if response_num > 0 else user_input\n",
        "    \n",
        "    # generate a response\n",
        "    chat_history = model.generate(\n",
        "        chatbot_input,\n",
        "        max_length=1000,\n",
        "        do_sample=True,\n",
        "        top_k=70,\n",
        "        top_p=0.95,\n",
        "        temperature=0.7,\n",
        "        pad_token_id=tokenizer.eos_token_id,\n",
        "    )\n",
        "    \n",
        "    #print the output\n",
        "    chat = tokenizer.decode(chat_history[:, chatbot_input.shape[-1]:][0], skip_special_tokens=True)\n",
        "    \n",
        "    print(f\"Bot: {chat}\")"
      ]
    },
    {
      "cell_type": "code",
      "execution_count": null,
      "metadata": {
        "id": "bpaUxPiJVzeD"
      },
      "outputs": [],
      "source": [
        "import nltk\n",
        "from nltk.chat.util import Chat, reflections\n",
        "\n",
        "pairs = [\n",
        "    # Simple greetings\n",
        "    (r\"hi|hello|hey\", [\"Hello!\", \"Hi there!\"]),\n",
        "    (r\"what's up|sup|how are you\", [\"Not much, how about you?\", \"I'm doing well, thanks for asking.\"]),\n",
        "    (r\"good morning|good afternoon|good evening\", [\"Good morning/afternoon/evening to you too!\"]),\n",
        "    \n",
        "    # Asking for the bot's name\n",
        "    (r\"what is your name|who are you\", [\"My name is St ANN's bot. Nice to meet you!\"]),\n",
        "    #st anns\n",
        "    (r\"where is st anns college|where is this college|\",[\"The college is situated at Mehdipatnam,Hyderabad\"]),\n",
        "    #admissions\n",
        "    (r\"how does the admission process go on|admissions|eligibility|Fees|Faculty\",[\"please visit:www.stanncollegehyd.com\"]),\n",
        "    \n",
        "    #courses offered\n",
        "    (r\" What are different ug courses|ug courses information|what are the available courses?|list of ug courses\",[\"Please visit :stannscollegehyd.com/ug.htm\"]),\n",
        "    #pg courses\n",
        "    (r\"What are different pg courses|pg courses information|what are the available pg courses?|list of pg courses\",[\"please visit:stannscollegehyd.com/pg.htm\"]),\n",
        "    # Asking for help\n",
        "    (r\"help\", [\"Sure, what do you need help with?\"]),\n",
        "    #colllege timings \n",
        "    \n",
        "    (r\"timings of the college|what are college timings|college timings|college hours\",[\"College is open from 9.00 am to 4.00 pm, Monday-Saturday!\\n Second saturday is also a working day\"\n",
        "    ]),\n",
        "    #departments\n",
        "    (r\"What are various departments in your college?|various departments|departments\",[\"these are some of our department websites:\\n\",\"Please visit stannscollegehyd.com/dept_english.htm for details of english department\",\n",
        "      \"Please visit stannscollegehyd.com/departments_mathematics.htm for details of mathematics department\",\n",
        "      \"Please visit stannscollegehyd.com/departments_political_science.htm for details of polsci department\",\n",
        "      \"Please visit stannscollegehyd.com/departments_computerscience.htm for details of compsci department\",\n",
        "      \"Please visit stannscollegehyd.com/departments_biotechnology.htm for details of biotech department\",\n",
        "      \"Please visit stannscollegehyd.com/department_of_mca.htm for details of MCA department\"]),\n",
        "    # Saying goodbye\n",
        "    (r\"bye|goodbye|see you later\", [\"Goodbye!\", \"Have a nice day!\"])\n",
        "]\n",
        "\n",
        "def chatbot():\n",
        "    print(\"Hello! I'm ChatBot. How can I help you today?\")\n",
        "    chat = Chat(pairs, reflections)\n",
        "    chat.converse()\n",
        "\n",
        "if nickname == \"_main_\":\n",
        "    chatbot()"
      ]
    },
    {
      "cell_type": "code",
      "execution_count": null,
      "metadata": {
        "id": "JjudQK-RyCov"
      },
      "outputs": [],
      "source": []
    }
  ],
  "metadata": {
    "colab": {
      "provenance": [],
      "authorship_tag": "ABX9TyNCnRxBwEvUPNKEDYcILt4I",
      "include_colab_link": true
    },
    "kernelspec": {
      "display_name": "Python 3",
      "name": "python3"
    },
    "language_info": {
      "name": "python"
    }
  },
  "nbformat": 4,
  "nbformat_minor": 0
}